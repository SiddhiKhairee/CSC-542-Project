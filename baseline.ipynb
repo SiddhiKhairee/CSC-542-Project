{
 "cells": [
  {
   "cell_type": "code",
   "execution_count": null,
   "metadata": {},
   "outputs": [],
   "source": [
    "## Config\n",
    "\n",
    "import os\n",
    "import random\n",
    "\n",
    "train_root = \"CUB_formatted/train\"\n",
    "val_root = \"CUB_formatted/val\"\n",
    "roots = [train_root, val_root]\n",
    "num_classes = 200\n",
    "\n",
    "if num_classes != 200:\n",
    "    all_classes = sorted(os.listdir(train_root))\n",
    "    selected_classes = all_classes[:num_classes]\n",
    "    #selected_classes = random.sample(all_classes, num_classes)\n",
    "    print(selected_classes)"
   ]
  },
  {
   "cell_type": "code",
   "execution_count": null,
   "metadata": {},
   "outputs": [],
   "source": [
    "## Torchvision data formatting -- Thins training and validation datasets down to the selected classes and reindexes them\n",
    "\n",
    "from torchvision import datasets, transforms\n",
    "from torch.utils.data import DataLoader\n",
    "import torch\n",
    "\n",
    "# ImageNet transforms--expected by ResNet18\n",
    "transform = transforms.Compose([\n",
    "    transforms.Resize((224, 224)),\n",
    "    transforms.ToTensor(),\n",
    "    transforms.Normalize([0.485, 0.456, 0.406],\n",
    "                         [0.229, 0.224, 0.225])\n",
    "])\n",
    "\n",
    "filtered_datasets = []\n",
    "\n",
    "for root in roots:\n",
    "    full_dataset = datasets.ImageFolder(root, transform=transform)\n",
    "\n",
    "    # Skip filtering if using whole dataset\n",
    "    if num_classes == 200:\n",
    "        filtered_datasets.append(full_dataset)\n",
    "    else:\n",
    "        # Get indices of selected classes\n",
    "        selected_classes_idx = []\n",
    "        for c in selected_classes:\n",
    "            class_idx = full_dataset.class_to_idx[c]\n",
    "            selected_classes_idx.append(class_idx)\n",
    "\n",
    "        # Create a map of new labels from 0 to num_classes-1\n",
    "        label_remap = {}\n",
    "        for new, orig in enumerate(sorted(selected_classes_idx)):\n",
    "            label_remap[orig] = new\n",
    "\n",
    "        filtered_data = []\n",
    "\n",
    "        # Filter out images from the selected classes and relabel them\n",
    "        for img, label in full_dataset:\n",
    "            if label in selected_classes_idx:\n",
    "                new_label = label_remap[label]\n",
    "                filtered_data.append((img, new_label))\n",
    "\n",
    "        filtered_datasets.append(filtered_data) \n",
    "\n",
    "train_data, val_data = filtered_datasets\n",
    "train_loader = DataLoader(train_data, batch_size=32, shuffle=True)\n",
    "val_loader = DataLoader(val_data, batch_size=32, shuffle=True)"
   ]
  },
  {
   "cell_type": "code",
   "execution_count": null,
   "metadata": {},
   "outputs": [
    {
     "name": "stderr",
     "output_type": "stream",
     "text": [
      "Downloading: \"https://download.pytorch.org/models/resnet18-f37072fd.pth\" to C:\\Users\\johnw/.cache\\torch\\hub\\checkpoints\\resnet18-f37072fd.pth\n",
      "100.0%\n"
     ]
    }
   ],
   "source": [
    "## Torchvision model construction -- WARNING: WILL RESET CURRENT MODEL\n",
    "\n",
    "import torchvision.models as models\n",
    "from torchvision.models import ResNet18_Weights\n",
    "import torch.nn as nn\n",
    "import torch.optim as optim\n",
    "\n",
    "model = models.resnet18(weights=ResNet18_Weights.DEFAULT)\n",
    "total_epochs = 0\n",
    "\n",
    "model.fc = nn.Linear(model.fc.in_features, num_classes)\n",
    "\n",
    "device = torch.device(\"cuda\" if torch.cuda.is_available() else \"cpu\")\n",
    "model.to(device)\n",
    "\n",
    "criterion = nn.CrossEntropyLoss()\n",
    "optimizer = optim.Adam(model.parameters(), lr=0.001)"
   ]
  },
  {
   "cell_type": "code",
   "execution_count": 14,
   "metadata": {},
   "outputs": [
    {
     "name": "stdout",
     "output_type": "stream",
     "text": [
      "Epoch 7, Loss: 62.0881, Accuracy: 51.56, time: 9m 58.00s\n"
     ]
    }
   ],
   "source": [
    "## Torchvision training -- Can be run multiple times on the same model\n",
    "import time\n",
    "\n",
    "start = time.time()\n",
    "num_epochs = 1\n",
    "\n",
    "for epoch in range(num_epochs):\n",
    "    model.train()\n",
    "    total_epochs += 1\n",
    "    \n",
    "    total_loss = 0\n",
    "    \n",
    "    # Train model and calculate loss\n",
    "    for images, labels in train_loader:\n",
    "        images, labels = images.to(device), labels.to(device)\n",
    "\n",
    "        optimizer.zero_grad()\n",
    "        outputs = model(images)\n",
    "        loss = criterion(outputs, labels)\n",
    "        loss.backward()\n",
    "        optimizer.step()\n",
    "\n",
    "        total_loss += loss.item()\n",
    "\n",
    "    ## Get accuracy of epoch\n",
    "    model.eval()\n",
    "    correct = 0\n",
    "    total = 0\n",
    "    with torch.no_grad():\n",
    "        for images, labels in val_loader:\n",
    "            images, labels = images.to(device), labels.to(device)\n",
    "            outputs = model(images)\n",
    "            _, predicted = torch.max(outputs, 1)\n",
    "            total += labels.size(0)\n",
    "            correct += (predicted == labels).sum().item()\n",
    "    epoch_acc = 100 * correct / total\n",
    "\n",
    "    # Print epoch metrics\n",
    "    elapsed = time.time() - start\n",
    "    mins, secs = divmod(int(elapsed), 60)\n",
    "    print(f\"Epoch {total_epochs}, Loss: {total_loss:.4f}, Accuracy: {epoch_acc:.2f}, time: {mins}m {secs:.2f}s\")"
   ]
  },
  {
   "cell_type": "code",
   "execution_count": 16,
   "metadata": {},
   "outputs": [
    {
     "name": "stdout",
     "output_type": "stream",
     "text": [
      "Epoch 7, Loss: 62.0881, Accuracy: 51.56\n"
     ]
    }
   ],
   "source": [
    "## Validation -- Just evaluates the current state of the model\n",
    "\n",
    "model.eval()\n",
    "correct = 0\n",
    "total = 0\n",
    "with torch.no_grad():\n",
    "    for images, labels in val_loader:\n",
    "        images, labels = images.to(device), labels.to(device)\n",
    "        outputs = model(images)\n",
    "        _, predicted = torch.max(outputs, 1)\n",
    "        total += labels.size(0)\n",
    "        correct += (predicted == labels).sum().item()\n",
    "epoch_acc = 100 * correct / total\n",
    "\n",
    "print(f\"Epoch {total_epochs}, Loss: {total_loss:.4f}, Accuracy: {epoch_acc:.2f}\")"
   ]
  },
  {
   "cell_type": "code",
   "execution_count": null,
   "metadata": {},
   "outputs": [],
   "source": [
    "## TODO: Compare with Tensorflow implementation"
   ]
  }
 ],
 "metadata": {
  "kernelspec": {
   "display_name": ".venv",
   "language": "python",
   "name": "python3"
  },
  "language_info": {
   "codemirror_mode": {
    "name": "ipython",
    "version": 3
   },
   "file_extension": ".py",
   "mimetype": "text/x-python",
   "name": "python",
   "nbconvert_exporter": "python",
   "pygments_lexer": "ipython3",
   "version": "3.11.4"
  }
 },
 "nbformat": 4,
 "nbformat_minor": 2
}
